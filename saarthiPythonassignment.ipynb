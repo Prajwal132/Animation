{
  "nbformat": 4,
  "nbformat_minor": 0,
  "metadata": {
    "colab": {
      "name": "saarthiPythonassignment.ipynb",
      "provenance": [],
      "collapsed_sections": [],
      "authorship_tag": "ABX9TyOARqXp9Eh5/RrobaOj5G9m",
      "include_colab_link": true
    },
    "kernelspec": {
      "name": "python3",
      "display_name": "Python 3"
    },
    "language_info": {
      "name": "python"
    }
  },
  "cells": [
    {
      "cell_type": "markdown",
      "metadata": {
        "id": "view-in-github",
        "colab_type": "text"
      },
      "source": [
        "<a href=\"https://colab.research.google.com/github/Prajwal132/Animation/blob/master/saarthiPythonassignment.ipynb\" target=\"_parent\"><img src=\"https://colab.research.google.com/assets/colab-badge.svg\" alt=\"Open In Colab\"/></a>"
      ]
    },
    {
      "cell_type": "markdown",
      "metadata": {
        "id": "wvvW1Y0PZwsR"
      },
      "source": [
        "# Prajwal Raj T D , \n",
        "# 7th Semester ECE Branch , \n",
        "# Dayananda Sagar University "
      ]
    },
    {
      "cell_type": "markdown",
      "metadata": {
        "id": "RYOoPZYDaLCB"
      },
      "source": [
        "# Saarthi Python Assignment "
      ]
    },
    {
      "cell_type": "markdown",
      "metadata": {
        "id": "McXPBsWuagiZ"
      },
      "source": [
        "8.Write a Python program to combine two dictionary adding values for common keys.\n",
        "\n",
        "                   d1 = {'a': 100, 'b': 200, 'c':300}\n",
        "                   d2 = {'a': 300, 'b': 200, 'd':400}\n",
        "                   output= {'a': 400, 'b': 400, 'd': 400, 'c': 300}"
      ]
    },
    {
      "cell_type": "code",
      "metadata": {
        "colab": {
          "base_uri": "https://localhost:8080/"
        },
        "id": "UOipeQ0-aWwR",
        "outputId": "fd456bb9-1386-466b-90d2-5938bcc79fb1"
      },
      "source": [
        "from collections import Counter\n",
        "d1 = {'a': 100, 'b': 200, 'c':300}\n",
        "d2 = {'a': 300, 'b': 200, 'd':400}\n",
        "d = Counter(d1) + Counter(d2)\n",
        "print(d)"
      ],
      "execution_count": null,
      "outputs": [
        {
          "output_type": "stream",
          "name": "stdout",
          "text": [
            "Counter({'a': 400, 'b': 400, 'd': 400, 'c': 300})\n"
          ]
        }
      ]
    },
    {
      "cell_type": "markdown",
      "metadata": {
        "id": "ZtWbaaFBbJE7"
      },
      "source": [
        "7.Write a Python program to check the validity of password input by users. It should validate the password with given below conditions.\n",
        "\n",
        "          *At least 1 letter between [a-z] and 1 letter between [A-Z].\n",
        "          *At least 1 number between [0-9].\n",
        "          *At least 1 special character [!\"#$%&'()*+,-./:;<=>?@[\\]^_`{|}~].\n",
        "          *Minimum length 6 characters.\n",
        "          *Maximum length 16 characters.\n"
      ]
    },
    {
      "cell_type": "code",
      "metadata": {
        "colab": {
          "base_uri": "https://localhost:8080/"
        },
        "id": "QVRBbuEibpYI",
        "outputId": "abcc5c49-6658-44cc-be5b-0d27c1d97dc8"
      },
      "source": [
        "import re\n",
        "p= input(\"Input your password\")\n",
        "x = True\n",
        "while x:  \n",
        "    if (len(p)<6 or len(p)>12):\n",
        "        break\n",
        "    elif not re.search(\"[a-z]\",p):\n",
        "        break\n",
        "    elif not re.search(\"[0-9]\",p):\n",
        "        break\n",
        "    elif not re.search(\"[A-Z]\",p):\n",
        "        break\n",
        "    elif not re.search(\"[$#@]\",p):\n",
        "        break\n",
        "    elif re.search(\"\\s\",p):\n",
        "        break\n",
        "    else:\n",
        "        print(\"Valid Password\")\n",
        "        x=False\n",
        "        break\n",
        "\n",
        "if x:\n",
        "    print(\"Not a Valid Password\")"
      ],
      "execution_count": null,
      "outputs": [
        {
          "output_type": "stream",
          "name": "stdout",
          "text": [
            "Input your passwordPrajwal@1423\n",
            "Valid Password\n"
          ]
        }
      ]
    },
    {
      "cell_type": "markdown",
      "metadata": {
        "id": "4gmnxZN-b0dy"
      },
      "source": [
        "6.Write a python program to convert a list of dictionaries which may contain duplicate dictonaries into a list containing unique dictionaries.\n",
        "\n",
        "  Example - Input\n",
        "            dict_list=[{'name': 'affirm', 'confidence': 0.9448149204254}, {'name': 'affirm', 'confidence': 0.944814920425415}, {'name': 'inform', 'confidence': 0.9842240810394287}, {'name': 'inform', 'confidence': 0.9842240810394287}]\n",
        "\n",
        "            output=[{'name': 'affirm', 'confidence': 0.9448149204254}, {'name': 'affirm', 'confidence': 0.944814920425415}, {'name': 'inform', 'confidence': 0.9842240810394287}]"
      ]
    },
    {
      "cell_type": "code",
      "metadata": {
        "colab": {
          "base_uri": "https://localhost:8080/"
        },
        "id": "17_Aio2Mb6n5",
        "outputId": "ff61dc78-32e1-4a3e-fa3c-7d0cea0e5d6e"
      },
      "source": [
        "test_list = [{'name': 'affirm', 'confidence': 0.9448149204254}, {'name': 'affirm', 'confidence': 0.944814920425415}, {'name': 'inform', 'confidence': 0.9842240810394287}, {'name': 'inform', 'confidence': 0.9842240810394287}] \n",
        "  \n",
        "print(\"The original list is : \" + str(test_list))\n",
        "res = list(map(dict, set(tuple(sorted(sub.items())) for sub in test_list)))\n",
        "print(\"The list after removing duplicates : \" + str(res))"
      ],
      "execution_count": null,
      "outputs": [
        {
          "output_type": "stream",
          "name": "stdout",
          "text": [
            "The original list is : [{'name': 'affirm', 'confidence': 0.9448149204254}, {'name': 'affirm', 'confidence': 0.944814920425415}, {'name': 'inform', 'confidence': 0.9842240810394287}, {'name': 'inform', 'confidence': 0.9842240810394287}]\n",
            "The list after removing duplicates : [{'confidence': 0.9842240810394287, 'name': 'inform'}, {'confidence': 0.944814920425415, 'name': 'affirm'}, {'confidence': 0.9448149204254, 'name': 'affirm'}]\n"
          ]
        }
      ]
    },
    {
      "cell_type": "markdown",
      "metadata": {
        "id": "n-DW78PYdW66"
      },
      "source": [
        "5.Write a Python program to automatically generate utterances. It will take a list of entities and a list of utterances as its input. its output will be a list of unique utterances with all the possible meaningful values of entities.\n",
        "Example- Input\n",
        "           Entities_list=[\"kolkata\", \"delhi\"]\n",
        "           utterance_list=[\"How far is <> from <>\", How is the weather in <>\"]\n",
        "\n",
        "           output=[\"How far is kolkata from delhi\",\"How far is delhi from kolkata,\"How is the weather in kolkata,\"How is the weather in delhi\"]\n",
        "\n",
        "       \n",
        "           Wrong_output=[\"How far is kolkata from kolkata\",\"How far is delhi from delhi\"]\n",
        "\n"
      ]
    },
    {
      "cell_type": "code",
      "metadata": {
        "colab": {
          "base_uri": "https://localhost:8080/"
        },
        "id": "-1HQnEVjOA89",
        "outputId": "265c214a-fbae-46af-916d-74af1c5113d4"
      },
      "source": [
        "a = \"kolkata\"\n",
        "b = \"delhi\"\n",
        "kolkata_delhi = f\"How far is {a} from {b},How far is {b} from {a},How is the weather in {a},How is the weather in {b}\"\n",
        "print(kolkata_delhi )"
      ],
      "execution_count": 3,
      "outputs": [
        {
          "output_type": "stream",
          "name": "stdout",
          "text": [
            "How far is kolkata from delhi,How far is delhi from kolkata,How is the weather in kolkata,How is the weather in delhi\n"
          ]
        }
      ]
    },
    {
      "cell_type": "markdown",
      "metadata": {
        "id": "AcFw87AXOEwV"
      },
      "source": [
        ""
      ]
    }
  ]
}